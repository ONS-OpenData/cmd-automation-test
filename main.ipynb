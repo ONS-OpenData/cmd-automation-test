{
 "cells": [
  {
   "cell_type": "code",
   "execution_count": null,
   "metadata": {},
   "outputs": [],
   "source": [
    "from api_functions import *\n",
    "from transform import *\n",
    "\n",
    "Transform()\n",
    "\n",
    "credentials = 'florence-details.json'\n",
    "dataset_id = 'cpih01'\n",
    "s3_url = '' # to be filled in\n",
    "\n",
    "Upload_Data_To_Florence(credentials, dataset_id, s3_url)"
   ]
  },
  {
   "cell_type": "code",
   "execution_count": null,
   "metadata": {},
   "outputs": [],
   "source": []
  }
 ],
 "metadata": {
  "kernelspec": {
   "display_name": "Python 3",
   "language": "python",
   "name": "python3"
  },
  "language_info": {
   "codemirror_mode": {
    "name": "ipython",
    "version": 3
   },
   "file_extension": ".py",
   "mimetype": "text/x-python",
   "name": "python",
   "nbconvert_exporter": "python",
   "pygments_lexer": "ipython3",
   "version": "3.7.0"
  }
 },
 "nbformat": 4,
 "nbformat_minor": 4
}
